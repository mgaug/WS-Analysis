{
 "cells": [
  {
   "cell_type": "code",
   "execution_count": 1,
   "id": "b02ca431",
   "metadata": {},
   "outputs": [],
   "source": [
    "import sys\n",
    "import os\n",
    "import WS\n",
    "import numpy as np"
   ]
  },
  {
   "cell_type": "markdown",
   "id": "ae9ff555",
   "metadata": {},
   "source": [
    "Analysis code for weather station data \n",
    "\n",
    "This code has been used to produce the paper \"Detailed analysis of local climate at the CTAO-North site from 20 yr of MAGIC weather station data\"   https://dx.doi.org/10.1093/mnras/stae2214\n",
    "\n",
    "\n",
    "1. Download the data from: https://dx.doi.org/10.5281/zenodo.11279074 \n",
    "2. Edit and run the python script create_files.py  \n",
    "3. Edit the main part of the script WS.py \n",
    "4. Run different parts of the analysis"
   ]
  },
  {
   "cell_type": "code",
   "execution_count": 2,
   "id": "97b9f1db-50df-4a97-8120-6ee68e3b5999",
   "metadata": {},
   "outputs": [],
   "source": [
    "# 3. Edit the main part of the script \n",
    "\n",
    "WS.resultdir = '../Results'    # directory in which the plots get stored  \n",
    "WS.tits      = ''              # additional flag to appear in all output file names\n",
    "\n",
    "WS.h5file_long  = '../Data/WS2003-23_long.h5'   # outcome of create_files.py\n",
    "# from: https://ftp.cpc.ncep.noaa.gov/cwlinks/norm.daily.nao.cdas.z500.19500101_current.csv\n",
    "WS.naoi_file = '../Data/norm.daily.nao.cdas.z500.19500101_current.csv'  # optionally, the NAOI for correlation studies\n",
    "WS.not_file = '../Data/NOT_2003_2023.h5'    # optionally, if NOT data existing and needed \n",
    "\n",
    "WS.is_naoi = False  # set to True if naoi_file is available\n",
    "WS.is_NOT  = False  # set to True if not_file is available\n",
    "\n",
    "# Names of variables provided by the weather station\n",
    "WS.name_temperature = 'temperature'\n",
    "WS.name_humidity    = 'humidity'\n",
    "WS.name_pressure    = 'pressure'\n",
    "WS.name_ws_current  = 'windSpeedCurrent'\n",
    "WS.name_ws_gust     = 'windGust'\n",
    "WS.name_ws_average  = 'windSpeedAverage'\n",
    "WS.name_wdir_current= 'windDirection'\n",
    "WS.name_wdir_average= 'windDirectionAverage'    \n",
    "\n",
    "# Wind binning of the Reinhardt station, see Eq. (1) of https://dx.doi.org/10.1093/mnras/stae2214\n",
    "WS.wind_binning = np.concatenate((np.arange(0.,104.,4.)-0.5,105.2 + 4*(np.arange(0,10)-0.5) + 0.3*(np.arange(0,10)-0.5)**2),axis=None)\n",
    "\n",
    "# Dates of the weather data\n",
    "WS.WS_start      = '2003-01-01 00:00:01'   # Start of first data entry \n",
    "WS.WS_relocation = '2004-03-01 00:00:01'   # Relocation of the station, see Section 2.1 of https://dx.doi.org/10.1093/mnras/stae2214\n",
    "WS.new_WS        = '2007-03-20 00:00:01'   # Purchase of new station MWS 5MW and upgrade \n",
    "WS.new_model     = '2017-04-10 00:00:01'   # Upgrade to a new MWS 55V \n",
    "WS.old_model     = '2023-01-16 00:00:01'   # Exchange back to repaired MWS 5MW\n",
    "WS.NOT_end_of_5min = '2007-02-02 12:00:00'  # Optional, if NOT data available \n",
    "WS.NOT_end_of_data = '2019-12-31 23:59:59'  # Optional, if NOT data available"
   ]
  },
  {
   "cell_type": "code",
   "execution_count": 3,
   "id": "ac8776ae-ce6e-4d8e-b8f1-8d2baea499f4",
   "metadata": {},
   "outputs": [],
   "source": [
    "from setup_helper import SetUp\n",
    "SetUp()"
   ]
  },
  {
   "cell_type": "code",
   "execution_count": 4,
   "id": "39cc7da9-50de-4238-933e-152dd80b88aa",
   "metadata": {},
   "outputs": [],
   "source": [
    "# Likelihood initialization, do not change unless necessary \n",
    "WS.method='L-BFGS-B'\n",
    "WS.tol=1e-9"
   ]
  },
  {
   "cell_type": "code",
   "execution_count": null,
   "id": "ea7e94ae-1418-4060-8a68-435929dc5d7a",
   "metadata": {},
   "outputs": [],
   "source": [
    "WS.load_data()"
   ]
  },
  {
   "cell_type": "code",
   "execution_count": null,
   "id": "4125c8ef-2d86-4aff-bded-4f2220408b6a",
   "metadata": {},
   "outputs": [],
   "source": [
    "#plot_datacount()\n",
    "#plot_downtime()\n",
    "#plot_temperature()\n",
    "#plot_DP()\n",
    "#plot_DTR()\n",
    "#plot_temperature_not()\n",
    "#plot_snow()\n",
    "#plot_rainy_periods()\n",
    "#plot_humidity()\n",
    "#plot_humidity_not()\n",
    "#plot_pressure_not()\n",
    "#plot_pressure()    \n",
    "#plot_wind()\n",
    "#plot_huracans()\n",
    "\n"
   ]
  }
 ],
 "metadata": {
  "kernelspec": {
   "display_name": "Python 3 (ipykernel)",
   "language": "python",
   "name": "python3"
  },
  "language_info": {
   "codemirror_mode": {
    "name": "ipython",
    "version": 3
   },
   "file_extension": ".py",
   "mimetype": "text/x-python",
   "name": "python",
   "nbconvert_exporter": "python",
   "pygments_lexer": "ipython3",
   "version": "3.9.20"
  }
 },
 "nbformat": 4,
 "nbformat_minor": 5
}
