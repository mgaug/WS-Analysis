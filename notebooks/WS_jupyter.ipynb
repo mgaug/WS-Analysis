{
 "cells": [
  {
   "cell_type": "code",
   "execution_count": 6,
   "id": "b02ca431",
   "metadata": {},
   "outputs": [],
   "source": [
    "import sys\n",
    "import os\n",
    "import WS\n",
    "import numpy as np"
   ]
  },
  {
   "cell_type": "markdown",
   "id": "ae9ff555",
   "metadata": {},
   "source": [
    "Analysis code for weather station data \n",
    "\n",
    "This code has been used to produce the paper \"Detailed analysis of local climate at the CTAO-North site from 20 yr of MAGIC weather station data\"   https://dx.doi.org/10.1093/mnras/stae2214\n",
    "\n",
    "\n",
    "1. Download the data from: https://dx.doi.org/10.5281/zenodo.11279074 \n",
    "2. Edit and run the python script create_files.py  \n",
    "3. Edit the main part of the script WS.py \n",
    "4. Run different parts of the analysis"
   ]
  },
  {
   "cell_type": "code",
   "execution_count": 12,
   "id": "97b9f1db-50df-4a97-8120-6ee68e3b5999",
   "metadata": {},
   "outputs": [],
   "source": [
    "# 3. Edit the main part of the script \n",
    "\n",
    "resultdir = '../Results'\n",
    "\n",
    "h5file_long  = 'WS2003-23_long.h5'\n",
    "# from: https://ftp.cpc.ncep.noaa.gov/cwlinks/norm.daily.nao.cdas.z500.19500101_current.csv\n",
    "naoi_file = 'norm.daily.nao.cdas.z500.19500101_current.csv'\n",
    "not_file = 'NOT_2003_2023.h5'    # optionally, if NOT data existing and needed \n",
    "\n",
    "is_naoi = False  # set to True if naoi_file is available\n",
    "is_NOT  = False  # set to True if not_file is available\n",
    "\n",
    "# Names of variables provided by WS\n",
    "name_temperature = 'temperature'\n",
    "name_humidity    = 'humidity'\n",
    "name_pressure    = 'pressure'\n",
    "name_ws_current  = 'windSpeedCurrent'\n",
    "name_ws_gust     = 'windGust'\n",
    "name_ws_average  = 'windSpeedAverage'\n",
    "name_wdir_current= 'windDirection'\n",
    "name_wdir_average= 'windDirectionAverage'    \n",
    "\n",
    "# Coverages required for the different analysis parts, all coverages in percent\n",
    "coverage_cut = 50.\n",
    "coverage_cut_for_daily_samples = 10\n",
    "coverage_cut_for_monthly_samples = 80\n",
    "day_coverage_for_samples = 85  \n",
    "day_coverage_for_diurnal = 95  \n",
    "\n",
    "# Wind binning of the Reinhardt station, see Eq. (1) of https://dx.doi.org/10.1093/mnras/stae2214\n",
    "wind_binning = np.concatenate((np.arange(0.,104.,4.)-0.5,105.2 + 4*(np.arange(0,10)-0.5) + 0.3*(np.arange(0,10)-0.5)**2),axis=None)\n",
    "\n",
    "# Dates of the weather data\n",
    "WS_start      = '2003-01-01 00:00:01'   # Start of first data entry \n",
    "WS_relocation = '2004-03-01 00:00:01'   # Relocation of the station, see Section 2.1 of https://dx.doi.org/10.1093/mnras/stae2214\n",
    "new_WS        = '2007-03-20 00:00:01'   # Purchase of new station MWS 5MW and upgrade \n",
    "new_model     = '2017-04-10 00:00:01'   # Upgrade to a new MWS 55V \n",
    "old_model     = '2023-01-16 00:00:01'   # Exchange back to repaired MWS 5MW\n",
    "NOT_end_of_5min = '2007-02-02 12:00:00'  # Optional, if NOT data available \n",
    "NOT_end_of_data = '2019-12-31 23:59:59'  # Optional, if NOT data available"
   ]
  },
  {
   "cell_type": "code",
   "execution_count": 8,
   "id": "ac8776ae-ce6e-4d8e-b8f1-8d2baea499f4",
   "metadata": {},
   "outputs": [
    {
     "name": "stdout",
     "output_type": "stream",
     "text": [
      "[array([0.12156863, 0.46666667, 0.70588235, 1.        ]), array([1.        , 0.49803922, 0.05490196, 1.        ]), array([0.17254902, 0.62745098, 0.17254902, 1.        ]), array([0.83921569, 0.15294118, 0.15686275, 1.        ]), array([0.58039216, 0.40392157, 0.74117647, 1.        ]), array([0.54901961, 0.3372549 , 0.29411765, 1.        ]), array([0.89019608, 0.46666667, 0.76078431, 1.        ]), array([0.49803922, 0.49803922, 0.49803922, 1.        ]), array([0.7372549 , 0.74117647, 0.13333333, 1.        ]), array([0.09019608, 0.74509804, 0.81176471, 1.        ]), (0.8627450980392157, 0.0784313725490196, 0.23529411764705882), (0.29411764705882354, 0.0, 0.5098039215686274)]\n"
     ]
    }
   ],
   "source": [
    "from setup_helper import SetUp\n",
    "SetUp()"
   ]
  },
  {
   "cell_type": "code",
   "execution_count": 13,
   "id": "39cc7da9-50de-4238-933e-152dd80b88aa",
   "metadata": {},
   "outputs": [],
   "source": [
    "# Likelihood initialization, do not change if necessary \n",
    "name_mu              = ['A', 'B', 'C', 'phi_mu',          'sigma0' ]\n",
    "name_mu_nob          = ['A', 'C',      'phi_mu',          'sigma0' ]\n",
    "name_mu_dphim        = ['A', 'B', 'C', 'phi_mu', 'dphim', 'sigma0' ]\n",
    "name_mu_dCm          = ['A', 'B', 'C', 'phi_mu', 'dCm',   'sigma0' ]\n",
    "name_mu_offset       = ['A', 'B', 'C', 'phi_mu',          'sigma0', 'offset' ]\n",
    "name_mu2             = ['A', 'B', 'C', 'phi_mu', 'D', 'phi_mu2','sigma0' ]\n",
    "name_mu2_sig2        = ['A', 'B', 'C', 'phi_mu', 'D', 'phi_mu2','sigma0', 'E', 'phi_sig' ]    \n",
    "name_mu2_offset      = ['A', 'B', 'C', 'phi_mu', 'D', 'phi_mu2','sigma0' ,                'offset' ]\n",
    "name_mu2_sig2_offset = ['A', 'B', 'C', 'phi_mu', 'D', 'phi_mu2','sigma0', 'E', 'phi_sig', 'offset' ]    \n",
    "bounds_mu              = ((0, None), (None, None), (0, None), (0, None), (0.1,None))\n",
    "bounds_mu_nob          = ((0, None),               (0, None), (0, None), (0.1,None))\n",
    "bounds_mu_dphim        = ((0, None), (None, None), (0, None), (0, None), (None,None),             (0.1,None))\n",
    "bounds_mu_dCm          = ((0, None), (None, None), (0, None), (0, None), (None,None),             (0.1,None))\n",
    "bounds_mu_offset       = ((0, None), (None, None), (0, None), (0, None), (0.1,None), (None, None))\n",
    "bounds_mu2             = ((0, None), (None, None), (None, None), (0, None), (0, None), (0, None), (0.1,None))\n",
    "bounds_mu2_sig2        = ((0, None), (None, None), (None, None), (0, None), (0, None), (0, None), (0.1,None), (-10.,None), (0, 12.))\n",
    "bounds_mu2_offset      = ((0, None), (None, None), (None, None), (0, None), (0, None), (0, None), (0.1,None),                        (None,None))\n",
    "bounds_mu2_sig2_offset = ((0, None), (None, None), (None, None), (0, None), (0, None), (0, None), (0.1,None), (-10.,None), (0, 12.), (None,None))\n",
    "\n",
    "method='L-BFGS-B'\n",
    "tol=1e-9"
   ]
  },
  {
   "cell_type": "code",
   "execution_count": 16,
   "id": "ea7e94ae-1418-4060-8a68-435929dc5d7a",
   "metadata": {},
   "outputs": [
    {
     "ename": "NameError",
     "evalue": "name 'dff' is not defined",
     "output_type": "error",
     "traceback": [
      "\u001b[0;31m---------------------------------------------------------------------------\u001b[0m",
      "\u001b[0;31mNameError\u001b[0m                                 Traceback (most recent call last)",
      "Cell \u001b[0;32mIn[16], line 1\u001b[0m\n\u001b[0;32m----> 1\u001b[0m \u001b[43mWS\u001b[49m\u001b[38;5;241;43m.\u001b[39;49m\u001b[43mplot_huracans\u001b[49m\u001b[43m(\u001b[49m\u001b[43m)\u001b[49m\n",
      "File \u001b[0;32m/ws/Notebooks/../WS.py:2962\u001b[0m, in \u001b[0;36mplot_huracans\u001b[0;34m()\u001b[0m\n\u001b[1;32m   2960\u001b[0m \u001b[38;5;28;01mdef\u001b[39;00m \u001b[38;5;21mplot_huracans\u001b[39m() \u001b[38;5;241m-\u001b[39m\u001b[38;5;241m>\u001b[39m \u001b[38;5;28;01mNone\u001b[39;00m:\n\u001b[0;32m-> 2962\u001b[0m     dfff \u001b[38;5;241m=\u001b[39m Filtre_Wind(\u001b[43mdff\u001b[49m)\n\u001b[1;32m   2964\u001b[0m     year_start \u001b[38;5;241m=\u001b[39m \u001b[38;5;241m2004\u001b[39m\n\u001b[1;32m   2965\u001b[0m     year_end   \u001b[38;5;241m=\u001b[39m \u001b[38;5;241m2023\u001b[39m\n",
      "\u001b[0;31mNameError\u001b[0m: name 'dff' is not defined"
     ]
    }
   ],
   "source": [
    "WS.plot_huracans()"
   ]
  },
  {
   "cell_type": "code",
   "execution_count": null,
   "id": "4125c8ef-2d86-4aff-bded-4f2220408b6a",
   "metadata": {},
   "outputs": [],
   "source": []
  }
 ],
 "metadata": {
  "kernelspec": {
   "display_name": "Python 3 (ipykernel)",
   "language": "python",
   "name": "python3"
  },
  "language_info": {
   "codemirror_mode": {
    "name": "ipython",
    "version": 3
   },
   "file_extension": ".py",
   "mimetype": "text/x-python",
   "name": "python",
   "nbconvert_exporter": "python",
   "pygments_lexer": "ipython3",
   "version": "3.9.20"
  }
 },
 "nbformat": 4,
 "nbformat_minor": 5
}
